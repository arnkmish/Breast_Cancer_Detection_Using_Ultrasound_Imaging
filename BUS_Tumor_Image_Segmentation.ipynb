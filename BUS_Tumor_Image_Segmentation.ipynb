{
  "nbformat": 4,
  "nbformat_minor": 0,
  "metadata": {
    "colab": {
      "name": "BUS_Tumor_Image_Segmentation.ipynb",
      "provenance": [],
      "collapsed_sections": []
    },
    "kernelspec": {
      "name": "python3",
      "display_name": "Python 3"
    },
    "language_info": {
      "name": "python"
    },
    "accelerator": "GPU"
  },
  "cells": [
    {
      "cell_type": "markdown",
      "source": [
        "# An Experimental Study on Breast Ultrasound Tumor Segementation\n",
        "\n",
        "\n"
      ],
      "metadata": {
        "id": "SCzQ-3ncO5bf"
      }
    },
    {
      "cell_type": "markdown",
      "source": [
        "In this Notebook we explore the UNet based segmentation of Breast US Tumor Images. The main idea is to study the efficiency of automatic semantic segmentation of the images with the help of UNet."
      ],
      "metadata": {
        "id": "Nkre7UGbPJhF"
      }
    },
    {
      "cell_type": "markdown",
      "source": [
        "For the purpose experimentation two publicly available datasets are utilized, \n",
        "\n",
        "*   BUSI dataset. (https://www.sciencedirect.com/science/article/pii/S2352340919312181)\n",
        "*   UDIAT dataset. (https://ieeexplore.ieee.org/abstract/document/8003418)\n",
        "\n"
      ],
      "metadata": {
        "id": "VkZPzDQ5PiVM"
      }
    },
    {
      "cell_type": "markdown",
      "source": [
        "The dataset images have been preprocessed and converted to 224x224 dimensionality and saved as .npy files. These files will be used directly in this Notebook."
      ],
      "metadata": {
        "id": "iDLq6rqWQ7EA"
      }
    },
    {
      "cell_type": "code",
      "execution_count": 1,
      "metadata": {
        "colab": {
          "base_uri": "https://localhost:8080/"
        },
        "id": "yCVfSODDNmHx",
        "outputId": "1c94a100-542d-4716-d809-17c52ece846e"
      },
      "outputs": [
        {
          "output_type": "stream",
          "name": "stdout",
          "text": [
            "Mounted at /content/gdrive\n"
          ]
        }
      ],
      "source": [
        "# Connect to Google Drive to access dataset\n",
        "from google.colab import drive\n",
        "\n",
        "drive.mount('/content/gdrive')"
      ]
    },
    {
      "cell_type": "code",
      "source": [
        "# Check dataset filenames\n",
        "import os\n",
        "import cv2\n",
        "\n",
        "bus_filenames = os.listdir('/content/gdrive/My Drive/BreastUSDatasetNPYs')\n",
        "print(bus_filenames)"
      ],
      "metadata": {
        "colab": {
          "base_uri": "https://localhost:8080/"
        },
        "id": "4SldMnNsOj0b",
        "outputId": "4efe818a-1528-4952-e295-1e876a430a22"
      },
      "execution_count": 2,
      "outputs": [
        {
          "output_type": "stream",
          "name": "stdout",
          "text": [
            "['busiTestImages.npy', 'busiTestLabels.npy', 'busiTestMasks.npy', 'busiTrainImages.npy', 'udTrainImages.npy', 'busiTrainMasks.npy', 'udTestLabels.npy', 'udTestMasks.npy', 'udTestImages.npy', 'busiTrainLabels.npy', 'udTrainLabels.npy', 'udTrainMasks.npy']\n"
          ]
        }
      ]
    },
    {
      "cell_type": "code",
      "source": [
        "# Read the Numpy files containing the dataset.\n",
        "import numpy as np\n",
        "\n",
        "busiTrainImages = np.load('/content/gdrive/My Drive/BreastUSDatasetNPYs/busiTrainImages.npy')\n",
        "busiTrainMasks = np.load('/content/gdrive/My Drive/BreastUSDatasetNPYs/busiTrainMasks.npy')\n",
        "busiTrainLabels = np.load('/content/gdrive/My Drive/BreastUSDatasetNPYs/busiTrainLabels.npy')\n",
        "busiTestImages = np.load('/content/gdrive/My Drive/BreastUSDatasetNPYs/busiTestImages.npy')\n",
        "busiTestMasks = np.load('/content/gdrive/My Drive/BreastUSDatasetNPYs/busiTestMasks.npy')\n",
        "busiTestLabels = np.load('/content/gdrive/My Drive/BreastUSDatasetNPYs/busiTestLabels.npy')\n",
        "\n",
        "udTrainImages = np.load('/content/gdrive/My Drive/BreastUSDatasetNPYs/udTrainImages.npy')\n",
        "udTrainMasks = np.load('/content/gdrive/My Drive/BreastUSDatasetNPYs/udTrainMasks.npy')\n",
        "udTrainLabels = np.load('/content/gdrive/My Drive/BreastUSDatasetNPYs/udTrainLabels.npy')\n",
        "udTestImages = np.load('/content/gdrive/My Drive/BreastUSDatasetNPYs/udTestImages.npy')\n",
        "udTestMasks = np.load('/content/gdrive/My Drive/BreastUSDatasetNPYs/udTestMasks.npy')\n",
        "udTestLabels = np.load('/content/gdrive/My Drive/BreastUSDatasetNPYs/udTestLabels.npy')\n",
        "\n",
        "print(busiTrainImages.shape)\n",
        "print(busiTrainMasks.shape)\n",
        "print(busiTrainLabels.shape)\n",
        "print(busiTestImages.shape)\n",
        "print(busiTestMasks.shape)\n",
        "print(busiTestLabels.shape)\n",
        "\n",
        "print(udTrainImages.shape)\n",
        "print(udTrainMasks.shape)\n",
        "print(udTrainLabels.shape)\n",
        "print(udTestImages.shape)\n",
        "print(udTestMasks.shape)\n",
        "print(udTestLabels.shape)"
      ],
      "metadata": {
        "colab": {
          "base_uri": "https://localhost:8080/"
        },
        "id": "yl9jPekIO0JK",
        "outputId": "42994c34-f559-4a81-c8d3-d83f867121c0"
      },
      "execution_count": 3,
      "outputs": [
        {
          "output_type": "stream",
          "name": "stdout",
          "text": [
            "(532, 224, 224)\n",
            "(532, 224, 224)\n",
            "(532,)\n",
            "(133, 224, 224)\n",
            "(133, 224, 224)\n",
            "(133,)\n",
            "(130, 224, 224)\n",
            "(130, 224, 224)\n",
            "(130,)\n",
            "(33, 224, 224)\n",
            "(33, 224, 224)\n",
            "(33,)\n"
          ]
        }
      ]
    },
    {
      "cell_type": "code",
      "source": [
        "# Inspect the pixel value range \n",
        "\n",
        "print(busiTrainImages[0])\n",
        "print(busiTrainMasks[0])\n",
        "print(busiTrainLabels[0])\n",
        "\n",
        "# The images and also the masks are having pixel values in the range 0-255\n",
        "# We need to rescale the data to bring all pixel values to the range 0 to 1\n",
        "\n",
        "busiTrainImages = busiTrainImages/255.\n",
        "busiTrainMasks = busiTrainMasks/255.\n",
        "\n",
        "busiTestImages = busiTestImages/255.\n",
        "busiTestMasks = busiTestMasks/255.\n",
        "\n",
        "udTrainImages = udTrainImages/255.\n",
        "udTrainMasks = udTrainMasks/255.\n",
        "\n",
        "udTestImages = udTestImages/255.\n",
        "udTestMasks = udTestMasks/255."
      ],
      "metadata": {
        "colab": {
          "base_uri": "https://localhost:8080/"
        },
        "id": "tictvS2_R8W8",
        "outputId": "3b6d440b-445d-448b-f79f-fefbf122febb"
      },
      "execution_count": 4,
      "outputs": [
        {
          "output_type": "stream",
          "name": "stdout",
          "text": [
            "[[ 80 174  37 ... 208 207 199]\n",
            " [ 83 207  21 ... 195 199 202]\n",
            " [ 85 161  42 ... 180 182 186]\n",
            " ...\n",
            " [ 20  19  16 ...  36  46  54]\n",
            " [ 29  27  23 ...  57  53  46]\n",
            " [ 20  20  23 ...  37  32  30]]\n",
            "[[0 0 0 ... 0 0 0]\n",
            " [0 0 0 ... 0 0 0]\n",
            " [0 0 0 ... 0 0 0]\n",
            " ...\n",
            " [0 0 0 ... 0 0 0]\n",
            " [0 0 0 ... 0 0 0]\n",
            " [0 0 0 ... 0 0 0]]\n",
            "0\n"
          ]
        }
      ]
    },
    {
      "cell_type": "code",
      "source": [
        "# After rescaling the pixel values are modified\n",
        "print(busiTrainImages[0])"
      ],
      "metadata": {
        "colab": {
          "base_uri": "https://localhost:8080/"
        },
        "id": "0i-hlywsTh_3",
        "outputId": "54632d81-fb60-4f53-f73c-d94357b8f54c"
      },
      "execution_count": 5,
      "outputs": [
        {
          "output_type": "stream",
          "name": "stdout",
          "text": [
            "[[0.31372549 0.68235294 0.14509804 ... 0.81568627 0.81176471 0.78039216]\n",
            " [0.3254902  0.81176471 0.08235294 ... 0.76470588 0.78039216 0.79215686]\n",
            " [0.33333333 0.63137255 0.16470588 ... 0.70588235 0.71372549 0.72941176]\n",
            " ...\n",
            " [0.07843137 0.0745098  0.0627451  ... 0.14117647 0.18039216 0.21176471]\n",
            " [0.11372549 0.10588235 0.09019608 ... 0.22352941 0.20784314 0.18039216]\n",
            " [0.07843137 0.07843137 0.09019608 ... 0.14509804 0.1254902  0.11764706]]\n"
          ]
        }
      ]
    },
    {
      "cell_type": "code",
      "source": [
        "print(busiTrainImages.shape)\n",
        "print(busiTrainMasks.shape)\n",
        "print(udTrainImages.shape)\n",
        "print(udTrainMasks.shape)\n",
        "print(busiTestImages.shape)\n",
        "print(busiTestMasks.shape)\n",
        "print(udTestImages.shape)\n",
        "print(udTestMasks.shape)"
      ],
      "metadata": {
        "colab": {
          "base_uri": "https://localhost:8080/"
        },
        "id": "P-1JbGYXB4WQ",
        "outputId": "49c081a3-9f06-4056-85e4-107e0461f6ff"
      },
      "execution_count": 6,
      "outputs": [
        {
          "output_type": "stream",
          "name": "stdout",
          "text": [
            "(532, 224, 224)\n",
            "(532, 224, 224)\n",
            "(130, 224, 224)\n",
            "(130, 224, 224)\n",
            "(133, 224, 224)\n",
            "(133, 224, 224)\n",
            "(33, 224, 224)\n",
            "(33, 224, 224)\n"
          ]
        }
      ]
    },
    {
      "cell_type": "code",
      "source": [
        "# Reshape all the samples into (#samples,224,224,1)\n",
        "\n",
        "busiTrainImages = busiTrainImages.reshape((-1, 224, 224, 1))\n",
        "busiTrainMasks = busiTrainMasks.reshape((-1, 224, 224, 1))\n",
        "busiTestImages = busiTestImages.reshape((-1, 224, 224, 1))\n",
        "busiTestMasks = busiTestMasks.reshape((-1, 224, 224, 1))\n",
        "\n",
        "udTrainImages = udTrainImages.reshape((-1, 224, 224, 1))\n",
        "udTrainMasks = udTrainMasks.reshape((-1, 224, 224, 1))\n",
        "udTestImages = udTestImages.reshape((-1, 224, 224, 1))\n",
        "udTestMasks = udTestMasks.reshape((-1, 224, 224, 1))\n",
        "\n",
        "print(busiTrainImages.shape)\n",
        "print(busiTrainMasks.shape)\n",
        "print(udTrainImages.shape)\n",
        "print(udTrainMasks.shape)\n",
        "print(busiTestImages.shape)\n",
        "print(busiTestMasks.shape)\n",
        "print(udTestImages.shape)\n",
        "print(udTestMasks.shape)"
      ],
      "metadata": {
        "colab": {
          "base_uri": "https://localhost:8080/"
        },
        "id": "lmUR9A6MgTFo",
        "outputId": "7bc115dd-1831-4447-8d0d-84de0570ddaa"
      },
      "execution_count": 7,
      "outputs": [
        {
          "output_type": "stream",
          "name": "stdout",
          "text": [
            "(532, 224, 224, 1)\n",
            "(532, 224, 224, 1)\n",
            "(130, 224, 224, 1)\n",
            "(130, 224, 224, 1)\n",
            "(133, 224, 224, 1)\n",
            "(133, 224, 224, 1)\n",
            "(33, 224, 224, 1)\n",
            "(33, 224, 224, 1)\n"
          ]
        }
      ]
    },
    {
      "cell_type": "code",
      "source": [
        "# Since for the purpose of segmentation the number of samples is quite less, we combine the two datasets.\n",
        "combinedTrainImages = np.concatenate((busiTrainImages,udTrainImages),axis=0)\n",
        "combinedTrainMasks = np.concatenate((busiTrainMasks,udTrainMasks),axis=0)\n",
        "combinedTestImages = np.concatenate((busiTestImages,udTestImages),axis=0)\n",
        "combinedTestMasks = np.concatenate((busiTestMasks,udTestMasks),axis=0)\n",
        "\n",
        "print(combinedTrainImages.shape)\n",
        "print(combinedTrainMasks.shape)\n",
        "print(combinedTestImages.shape)\n",
        "print(combinedTestMasks.shape)"
      ],
      "metadata": {
        "colab": {
          "base_uri": "https://localhost:8080/"
        },
        "id": "IisjjclbboQU",
        "outputId": "8d80fe37-d9fa-43eb-8d6a-9c98ecfa44e0"
      },
      "execution_count": 14,
      "outputs": [
        {
          "output_type": "stream",
          "name": "stdout",
          "text": [
            "(662, 224, 224, 1)\n",
            "(662, 224, 224, 1)\n",
            "(166, 224, 224, 1)\n",
            "(166, 224, 224, 1)\n"
          ]
        }
      ]
    },
    {
      "cell_type": "code",
      "source": [
        "# Split the training data into training and validation sets.\n",
        "\n",
        "from sklearn.model_selection import train_test_split\n",
        "\n",
        "\n",
        "# Train test split\n",
        "\n",
        "xTrain,xVal,yTrain,yVal = train_test_split(combinedTrainImages,combinedTrainMasks, test_size=0.20, shuffle = True)\n",
        "\n",
        "\n",
        "print(xTrain.shape)\n",
        "print(yTrain.shape)\n",
        "print(xVal.shape)\n",
        "print(yVal.shape)\n",
        "print(combinedTestImages.shape)\n",
        "print(combinedTestMasks.shape)"
      ],
      "metadata": {
        "colab": {
          "base_uri": "https://localhost:8080/"
        },
        "id": "rY6JWiasdTZw",
        "outputId": "03fd682c-0ee4-45e0-e2e6-4c0976e84b4b"
      },
      "execution_count": 15,
      "outputs": [
        {
          "output_type": "stream",
          "name": "stdout",
          "text": [
            "(529, 224, 224, 1)\n",
            "(529, 224, 224, 1)\n",
            "(133, 224, 224, 1)\n",
            "(133, 224, 224, 1)\n",
            "(166, 224, 224, 1)\n",
            "(166, 224, 224, 1)\n"
          ]
        }
      ]
    },
    {
      "cell_type": "markdown",
      "source": [
        "### Once our data is ready, next we prepare our model and loss functions.\n"
      ],
      "metadata": {
        "id": "EJ85BdWneXFQ"
      }
    },
    {
      "cell_type": "code",
      "source": [
        "import warnings\n",
        "from tensorflow.keras import backend as K\n",
        "from PIL import Image\n",
        "from tensorflow.keras.callbacks import EarlyStopping\n",
        "from tensorflow.keras.layers import Dense, Activation, Dropout, Flatten,Conv2D, MaxPooling2D\n",
        "from tensorflow.keras.layers import BatchNormalization\n",
        "from sklearn.metrics import confusion_matrix\n",
        "from tensorflow.keras.layers import Input\n",
        "from tensorflow.keras.models import Model\n",
        "from tensorflow.keras.layers import GlobalAveragePooling2D as GAP\n",
        "\n",
        "from keras.losses import binary_crossentropy\n",
        "import keras.backend as K\n",
        "\n",
        "\n",
        "def dice_coef(y_true, y_pred):\n",
        "    y_true_f = K.flatten(y_true)\n",
        "    y_pred = K.cast(y_pred, 'float32')\n",
        "    y_pred_f = K.cast(K.greater(K.flatten(y_pred), 0.5), 'float32')\n",
        "    intersection = y_true_f * y_pred_f\n",
        "    score = 2. * K.sum(intersection) / (K.sum(y_true_f) + K.sum(y_pred_f))\n",
        "    return score\n",
        "\n",
        "def dice_loss(y_true, y_pred):\n",
        "    y_true = K.cast(y_true, 'float32')\n",
        "    y_pred = K.cast(y_pred, 'float32')\n",
        "    smooth = 1.\n",
        "    y_true_f = K.flatten(y_true)\n",
        "    y_pred_f = K.flatten(y_pred)\n",
        "    intersection = y_true_f * y_pred_f\n",
        "    score = (2. * K.sum(intersection) + smooth) / (K.sum(y_true_f * y_true_f) + K.sum(y_pred_f * y_pred_f) + smooth)\n",
        "    return 1. - score\n",
        "\n",
        "def bce_dice_loss(y_true, y_pred):\n",
        "    y_true = K.cast(y_true, 'float32')\n",
        "    y_pred = K.cast(y_pred, 'float32')\n",
        "    return binary_crossentropy(y_true, y_pred) + dice_loss(y_true, y_pred)\n"
      ],
      "metadata": {
        "id": "Q7al6MjweVOw"
      },
      "execution_count": 16,
      "outputs": []
    },
    {
      "cell_type": "code",
      "source": [
        "from tensorflow.keras.layers import Conv2DTranspose, UpSampling2D\n",
        "from tensorflow.keras.layers import *\n",
        "import tensorflow as tf\n",
        "from tensorflow.keras.layers import GlobalAveragePooling2D as GAP\n",
        "from tensorflow.keras import layers\n",
        "\n",
        "IMG_HEIGHT=224\n",
        "IMG_WIDTH = 224\n",
        "IMG_CHANNELS = 1\n",
        "inputs = Input((IMG_HEIGHT, IMG_WIDTH, IMG_CHANNELS))\n",
        "\n",
        "c1 = Conv2D(64, (3, 3), activation='elu', kernel_initializer='he_normal', padding='same') (inputs)\n",
        "c1 = Dropout(0.1) (c1)\n",
        "c1 = Conv2D(64, (3, 3), activation='elu', kernel_initializer='he_normal', padding='same') (c1)\n",
        "p1 = MaxPooling2D((2, 2)) (c1)\n",
        "c2 = Conv2D(128, (3, 3), activation='elu', kernel_initializer='he_normal', padding='same') (p1)\n",
        "c2 = Dropout(0.1) (c2)\n",
        "c2 = Conv2D(128, (3, 3), activation='elu', kernel_initializer='he_normal', padding='same') (c2)\n",
        "p2 = MaxPooling2D((2, 2)) (c2)\n",
        "c3 = Conv2D(256, (3, 3), activation='elu', kernel_initializer='he_normal', padding='same') (p2)\n",
        "c3 = Dropout(0.2) (c3)\n",
        "c3 = Conv2D(256, (3, 3), activation='elu', kernel_initializer='he_normal', padding='same') (c3)\n",
        "p3 = MaxPooling2D((2, 2)) (c3)\n",
        "c4 = Conv2D(512, (3, 3), activation='elu', kernel_initializer='he_normal', padding='same') (p3)\n",
        "c4 = Dropout(0.2) (c4)\n",
        "c4 = Conv2D(512, (3, 3), activation='elu', kernel_initializer='he_normal', padding='same') (c4)\n",
        "p4 = MaxPooling2D(pool_size=(2, 2)) (c4)\n",
        "c5 = Conv2D(1024, (3, 3), activation='elu', kernel_initializer='he_normal', padding='same') (p4)\n",
        "c5 = Dropout(0.3) (c5)\n",
        "c5 = Conv2D(1024, (3, 3), activation='elu', kernel_initializer='he_normal', padding='same') (c5)\n",
        "\n",
        "# Break here for multitask learning\n",
        "\n",
        "u6 = Conv2DTranspose(512,(2, 2), strides=(2, 2),padding='same') (c5)\n",
        "u6 = layers.concatenate([u6, c4])\n",
        "c6 = Conv2D(512, (3, 3), activation='elu', kernel_initializer='he_normal', padding='same') (u6)\n",
        "c6 = Dropout(0.2) (c6)\n",
        "c6 = Conv2D(512, (3, 3), activation='elu', kernel_initializer='he_normal', padding='same') (c6)\n",
        "u7 = Conv2DTranspose(256,(2, 2), strides=(2, 2),padding='same') (c6)\n",
        "u7 = layers.concatenate([u7, c3])\n",
        "c7 = Conv2D(256, (3, 3), activation='elu', kernel_initializer='he_normal', padding='same') (u7)\n",
        "c7 = Dropout(0.2) (c7)\n",
        "c7 = Conv2D(256, (3, 3), activation='elu', kernel_initializer='he_normal', padding='same') (c7)\n",
        "u8 = Conv2DTranspose(128,(2, 2), strides=(2, 2),padding='same') (c7)\n",
        "u8 = layers.concatenate([u8, c2])\n",
        "c8 = Conv2D(128, (3, 3), activation='elu', kernel_initializer='he_normal', padding='same') (u8)\n",
        "c8 = Dropout(0.1) (c8)\n",
        "c8 = Conv2D(128, (3, 3), activation='elu', kernel_initializer='he_normal', padding='same') (c8)\n",
        "u9 = Conv2DTranspose(64,(2, 2), strides=(2, 2),padding='same') (c8)\n",
        "u9 = layers.concatenate([u9, c1], axis=3)\n",
        "c9 = Conv2D(64, (3, 3), activation='elu', kernel_initializer='he_normal', padding='same') (u9)\n",
        "c9 = Dropout(0.1) (c9)\n",
        "c9 = Conv2D(64, (3, 3), activation='elu', kernel_initializer='he_normal', padding='same') (c9)\n",
        "seg_branch = Conv2D(1, (1, 1), activation='sigmoid', name='seg_output') (c9)\n",
        "\n",
        "model = tf.keras.Model(inputs = inputs, outputs = seg_branch)\n",
        "print(model.summary())"
      ],
      "metadata": {
        "colab": {
          "base_uri": "https://localhost:8080/"
        },
        "id": "iH2ReHegffSk",
        "outputId": "df709fe0-9c57-4ccd-cf41-098aef02f87e"
      },
      "execution_count": 17,
      "outputs": [
        {
          "output_type": "stream",
          "name": "stdout",
          "text": [
            "Model: \"model\"\n",
            "__________________________________________________________________________________________________\n",
            " Layer (type)                   Output Shape         Param #     Connected to                     \n",
            "==================================================================================================\n",
            " input_1 (InputLayer)           [(None, 224, 224, 1  0           []                               \n",
            "                                )]                                                                \n",
            "                                                                                                  \n",
            " conv2d (Conv2D)                (None, 224, 224, 64  640         ['input_1[0][0]']                \n",
            "                                )                                                                 \n",
            "                                                                                                  \n",
            " dropout (Dropout)              (None, 224, 224, 64  0           ['conv2d[0][0]']                 \n",
            "                                )                                                                 \n",
            "                                                                                                  \n",
            " conv2d_1 (Conv2D)              (None, 224, 224, 64  36928       ['dropout[0][0]']                \n",
            "                                )                                                                 \n",
            "                                                                                                  \n",
            " max_pooling2d (MaxPooling2D)   (None, 112, 112, 64  0           ['conv2d_1[0][0]']               \n",
            "                                )                                                                 \n",
            "                                                                                                  \n",
            " conv2d_2 (Conv2D)              (None, 112, 112, 12  73856       ['max_pooling2d[0][0]']          \n",
            "                                8)                                                                \n",
            "                                                                                                  \n",
            " dropout_1 (Dropout)            (None, 112, 112, 12  0           ['conv2d_2[0][0]']               \n",
            "                                8)                                                                \n",
            "                                                                                                  \n",
            " conv2d_3 (Conv2D)              (None, 112, 112, 12  147584      ['dropout_1[0][0]']              \n",
            "                                8)                                                                \n",
            "                                                                                                  \n",
            " max_pooling2d_1 (MaxPooling2D)  (None, 56, 56, 128)  0          ['conv2d_3[0][0]']               \n",
            "                                                                                                  \n",
            " conv2d_4 (Conv2D)              (None, 56, 56, 256)  295168      ['max_pooling2d_1[0][0]']        \n",
            "                                                                                                  \n",
            " dropout_2 (Dropout)            (None, 56, 56, 256)  0           ['conv2d_4[0][0]']               \n",
            "                                                                                                  \n",
            " conv2d_5 (Conv2D)              (None, 56, 56, 256)  590080      ['dropout_2[0][0]']              \n",
            "                                                                                                  \n",
            " max_pooling2d_2 (MaxPooling2D)  (None, 28, 28, 256)  0          ['conv2d_5[0][0]']               \n",
            "                                                                                                  \n",
            " conv2d_6 (Conv2D)              (None, 28, 28, 512)  1180160     ['max_pooling2d_2[0][0]']        \n",
            "                                                                                                  \n",
            " dropout_3 (Dropout)            (None, 28, 28, 512)  0           ['conv2d_6[0][0]']               \n",
            "                                                                                                  \n",
            " conv2d_7 (Conv2D)              (None, 28, 28, 512)  2359808     ['dropout_3[0][0]']              \n",
            "                                                                                                  \n",
            " max_pooling2d_3 (MaxPooling2D)  (None, 14, 14, 512)  0          ['conv2d_7[0][0]']               \n",
            "                                                                                                  \n",
            " conv2d_8 (Conv2D)              (None, 14, 14, 1024  4719616     ['max_pooling2d_3[0][0]']        \n",
            "                                )                                                                 \n",
            "                                                                                                  \n",
            " dropout_4 (Dropout)            (None, 14, 14, 1024  0           ['conv2d_8[0][0]']               \n",
            "                                )                                                                 \n",
            "                                                                                                  \n",
            " conv2d_9 (Conv2D)              (None, 14, 14, 1024  9438208     ['dropout_4[0][0]']              \n",
            "                                )                                                                 \n",
            "                                                                                                  \n",
            " conv2d_transpose (Conv2DTransp  (None, 28, 28, 512)  2097664    ['conv2d_9[0][0]']               \n",
            " ose)                                                                                             \n",
            "                                                                                                  \n",
            " concatenate (Concatenate)      (None, 28, 28, 1024  0           ['conv2d_transpose[0][0]',       \n",
            "                                )                                 'conv2d_7[0][0]']               \n",
            "                                                                                                  \n",
            " conv2d_10 (Conv2D)             (None, 28, 28, 512)  4719104     ['concatenate[0][0]']            \n",
            "                                                                                                  \n",
            " dropout_5 (Dropout)            (None, 28, 28, 512)  0           ['conv2d_10[0][0]']              \n",
            "                                                                                                  \n",
            " conv2d_11 (Conv2D)             (None, 28, 28, 512)  2359808     ['dropout_5[0][0]']              \n",
            "                                                                                                  \n",
            " conv2d_transpose_1 (Conv2DTran  (None, 56, 56, 256)  524544     ['conv2d_11[0][0]']              \n",
            " spose)                                                                                           \n",
            "                                                                                                  \n",
            " concatenate_1 (Concatenate)    (None, 56, 56, 512)  0           ['conv2d_transpose_1[0][0]',     \n",
            "                                                                  'conv2d_5[0][0]']               \n",
            "                                                                                                  \n",
            " conv2d_12 (Conv2D)             (None, 56, 56, 256)  1179904     ['concatenate_1[0][0]']          \n",
            "                                                                                                  \n",
            " dropout_6 (Dropout)            (None, 56, 56, 256)  0           ['conv2d_12[0][0]']              \n",
            "                                                                                                  \n",
            " conv2d_13 (Conv2D)             (None, 56, 56, 256)  590080      ['dropout_6[0][0]']              \n",
            "                                                                                                  \n",
            " conv2d_transpose_2 (Conv2DTran  (None, 112, 112, 12  131200     ['conv2d_13[0][0]']              \n",
            " spose)                         8)                                                                \n",
            "                                                                                                  \n",
            " concatenate_2 (Concatenate)    (None, 112, 112, 25  0           ['conv2d_transpose_2[0][0]',     \n",
            "                                6)                                'conv2d_3[0][0]']               \n",
            "                                                                                                  \n",
            " conv2d_14 (Conv2D)             (None, 112, 112, 12  295040      ['concatenate_2[0][0]']          \n",
            "                                8)                                                                \n",
            "                                                                                                  \n",
            " dropout_7 (Dropout)            (None, 112, 112, 12  0           ['conv2d_14[0][0]']              \n",
            "                                8)                                                                \n",
            "                                                                                                  \n",
            " conv2d_15 (Conv2D)             (None, 112, 112, 12  147584      ['dropout_7[0][0]']              \n",
            "                                8)                                                                \n",
            "                                                                                                  \n",
            " conv2d_transpose_3 (Conv2DTran  (None, 224, 224, 64  32832      ['conv2d_15[0][0]']              \n",
            " spose)                         )                                                                 \n",
            "                                                                                                  \n",
            " concatenate_3 (Concatenate)    (None, 224, 224, 12  0           ['conv2d_transpose_3[0][0]',     \n",
            "                                8)                                'conv2d_1[0][0]']               \n",
            "                                                                                                  \n",
            " conv2d_16 (Conv2D)             (None, 224, 224, 64  73792       ['concatenate_3[0][0]']          \n",
            "                                )                                                                 \n",
            "                                                                                                  \n",
            " dropout_8 (Dropout)            (None, 224, 224, 64  0           ['conv2d_16[0][0]']              \n",
            "                                )                                                                 \n",
            "                                                                                                  \n",
            " conv2d_17 (Conv2D)             (None, 224, 224, 64  36928       ['dropout_8[0][0]']              \n",
            "                                )                                                                 \n",
            "                                                                                                  \n",
            " seg_output (Conv2D)            (None, 224, 224, 1)  65          ['conv2d_17[0][0]']              \n",
            "                                                                                                  \n",
            "==================================================================================================\n",
            "Total params: 31,030,593\n",
            "Trainable params: 31,030,593\n",
            "Non-trainable params: 0\n",
            "__________________________________________________________________________________________________\n",
            "None\n"
          ]
        }
      ]
    },
    {
      "cell_type": "code",
      "source": [
        "# Compile model\n",
        "\n",
        "model.compile(optimizer='adam', loss=bce_dice_loss, metrics=[dice_coef])"
      ],
      "metadata": {
        "id": "wJVOJ6PGlgCL"
      },
      "execution_count": 18,
      "outputs": []
    },
    {
      "cell_type": "code",
      "source": [
        "# Model training with earlystopping\n",
        "\n",
        "import matplotlib.pyplot as plt\n",
        "from tensorflow.keras.callbacks import EarlyStopping\n",
        "\n",
        "es = EarlyStopping(monitor='val_loss', patience=100, verbose=1, mode='min',restore_best_weights=True)\n",
        "\n",
        "history = model.fit(xTrain, yTrain,\n",
        "              epochs=500,\n",
        "              verbose=1,\n",
        "              validation_data = (xVal, yVal), batch_size=16,\n",
        "              callbacks = [es]\n",
        "             )\n",
        "\n",
        "# Plot the training and validation losses\n",
        "\n",
        "plt.plot(history.history['loss'])\n",
        "plt.plot(history.history['val_loss'])\n",
        "plt.title('model loss')\n",
        "plt.ylabel('loss')\n",
        "plt.xlabel('epoch')\n",
        "plt.legend(['train', 'val'], loc='upper left')\n",
        "plt.show()"
      ],
      "metadata": {
        "colab": {
          "base_uri": "https://localhost:8080/",
          "height": 1000
        },
        "id": "oreG-Jv2l5Ih",
        "outputId": "19a8ee74-138f-492a-845c-21917b4d77a3"
      },
      "execution_count": 19,
      "outputs": [
        {
          "output_type": "stream",
          "name": "stdout",
          "text": [
            "Epoch 1/500\n",
            "34/34 [==============================] - 71s 1s/step - loss: 1.4232 - dice_coef: 0.1051 - val_loss: 1.2062 - val_dice_coef: 0.0039\n",
            "Epoch 2/500\n",
            "34/34 [==============================] - 43s 1s/step - loss: 1.0374 - dice_coef: 0.1463 - val_loss: 1.1272 - val_dice_coef: 0.0457\n",
            "Epoch 3/500\n",
            "34/34 [==============================] - 43s 1s/step - loss: 0.9529 - dice_coef: 0.2104 - val_loss: 0.8753 - val_dice_coef: 0.2548\n",
            "Epoch 4/500\n",
            "34/34 [==============================] - 43s 1s/step - loss: 0.9018 - dice_coef: 0.2921 - val_loss: 0.8561 - val_dice_coef: 0.3697\n",
            "Epoch 5/500\n",
            "34/34 [==============================] - 43s 1s/step - loss: 0.8359 - dice_coef: 0.3175 - val_loss: 0.7823 - val_dice_coef: 0.3752\n",
            "Epoch 6/500\n",
            "34/34 [==============================] - 43s 1s/step - loss: 0.8036 - dice_coef: 0.3408 - val_loss: 0.8125 - val_dice_coef: 0.3165\n",
            "Epoch 7/500\n",
            "34/34 [==============================] - 43s 1s/step - loss: 0.8097 - dice_coef: 0.3523 - val_loss: 0.7869 - val_dice_coef: 0.4109\n",
            "Epoch 8/500\n",
            "34/34 [==============================] - 43s 1s/step - loss: 0.7751 - dice_coef: 0.3962 - val_loss: 0.7502 - val_dice_coef: 0.4233\n",
            "Epoch 9/500\n",
            "34/34 [==============================] - 43s 1s/step - loss: 0.7390 - dice_coef: 0.4096 - val_loss: 0.7917 - val_dice_coef: 0.2394\n",
            "Epoch 10/500\n",
            "34/34 [==============================] - 43s 1s/step - loss: 0.7129 - dice_coef: 0.4391 - val_loss: 0.7947 - val_dice_coef: 0.2829\n",
            "Epoch 11/500\n",
            "34/34 [==============================] - 43s 1s/step - loss: 0.6872 - dice_coef: 0.4497 - val_loss: 0.6953 - val_dice_coef: 0.4420\n",
            "Epoch 12/500\n",
            "34/34 [==============================] - 43s 1s/step - loss: 0.6937 - dice_coef: 0.4552 - val_loss: 0.8030 - val_dice_coef: 0.2249\n",
            "Epoch 13/500\n",
            "34/34 [==============================] - 43s 1s/step - loss: 0.6595 - dice_coef: 0.4666 - val_loss: 0.6648 - val_dice_coef: 0.4609\n",
            "Epoch 14/500\n",
            "34/34 [==============================] - 43s 1s/step - loss: 0.6606 - dice_coef: 0.4953 - val_loss: 0.7630 - val_dice_coef: 0.3711\n",
            "Epoch 15/500\n",
            "34/34 [==============================] - 43s 1s/step - loss: 0.6428 - dice_coef: 0.5056 - val_loss: 0.9545 - val_dice_coef: 0.2376\n",
            "Epoch 16/500\n",
            "34/34 [==============================] - 43s 1s/step - loss: 0.7077 - dice_coef: 0.4524 - val_loss: 0.6957 - val_dice_coef: 0.4553\n",
            "Epoch 17/500\n",
            "34/34 [==============================] - 43s 1s/step - loss: 0.6636 - dice_coef: 0.4759 - val_loss: 0.7279 - val_dice_coef: 0.4125\n",
            "Epoch 18/500\n",
            "34/34 [==============================] - 43s 1s/step - loss: 0.6376 - dice_coef: 0.5166 - val_loss: 0.6134 - val_dice_coef: 0.5354\n",
            "Epoch 19/500\n",
            "34/34 [==============================] - 43s 1s/step - loss: 0.6269 - dice_coef: 0.5233 - val_loss: 0.6677 - val_dice_coef: 0.4638\n",
            "Epoch 20/500\n",
            "34/34 [==============================] - 42s 1s/step - loss: 0.6505 - dice_coef: 0.4912 - val_loss: 0.6380 - val_dice_coef: 0.4799\n",
            "Epoch 21/500\n",
            "34/34 [==============================] - 42s 1s/step - loss: 0.6175 - dice_coef: 0.5145 - val_loss: 0.7055 - val_dice_coef: 0.4092\n",
            "Epoch 22/500\n",
            "34/34 [==============================] - 42s 1s/step - loss: 0.6247 - dice_coef: 0.5060 - val_loss: 0.8909 - val_dice_coef: 0.2970\n",
            "Epoch 23/500\n",
            "34/34 [==============================] - 43s 1s/step - loss: 0.5958 - dice_coef: 0.5178 - val_loss: 0.6064 - val_dice_coef: 0.5264\n",
            "Epoch 24/500\n",
            "34/34 [==============================] - 43s 1s/step - loss: 0.5685 - dice_coef: 0.5529 - val_loss: 0.6944 - val_dice_coef: 0.4058\n",
            "Epoch 25/500\n",
            "34/34 [==============================] - 43s 1s/step - loss: 0.5966 - dice_coef: 0.5330 - val_loss: 0.5876 - val_dice_coef: 0.5404\n",
            "Epoch 26/500\n",
            "34/34 [==============================] - 43s 1s/step - loss: 0.5565 - dice_coef: 0.5537 - val_loss: 0.6319 - val_dice_coef: 0.5354\n",
            "Epoch 27/500\n",
            "34/34 [==============================] - 43s 1s/step - loss: 0.5850 - dice_coef: 0.5666 - val_loss: 0.6808 - val_dice_coef: 0.4686\n",
            "Epoch 28/500\n",
            "34/34 [==============================] - 43s 1s/step - loss: 0.5606 - dice_coef: 0.5549 - val_loss: 0.5733 - val_dice_coef: 0.5602\n",
            "Epoch 29/500\n",
            "34/34 [==============================] - 42s 1s/step - loss: 0.5313 - dice_coef: 0.5731 - val_loss: 0.5936 - val_dice_coef: 0.5620\n",
            "Epoch 30/500\n",
            "34/34 [==============================] - 43s 1s/step - loss: 0.5203 - dice_coef: 0.5913 - val_loss: 0.5657 - val_dice_coef: 0.5502\n",
            "Epoch 31/500\n",
            "34/34 [==============================] - 42s 1s/step - loss: 0.5358 - dice_coef: 0.6021 - val_loss: 0.6228 - val_dice_coef: 0.4845\n",
            "Epoch 32/500\n",
            "34/34 [==============================] - 43s 1s/step - loss: 0.5382 - dice_coef: 0.5932 - val_loss: 0.5344 - val_dice_coef: 0.6036\n",
            "Epoch 33/500\n",
            "34/34 [==============================] - 43s 1s/step - loss: 0.4835 - dice_coef: 0.6387 - val_loss: 0.5722 - val_dice_coef: 0.5587\n",
            "Epoch 34/500\n",
            "34/34 [==============================] - 42s 1s/step - loss: 0.4718 - dice_coef: 0.6260 - val_loss: 0.5573 - val_dice_coef: 0.5632\n",
            "Epoch 35/500\n",
            "34/34 [==============================] - 42s 1s/step - loss: 0.4833 - dice_coef: 0.6371 - val_loss: 0.5800 - val_dice_coef: 0.5609\n",
            "Epoch 36/500\n",
            "34/34 [==============================] - 43s 1s/step - loss: 0.4483 - dice_coef: 0.6641 - val_loss: 0.5828 - val_dice_coef: 0.5652\n",
            "Epoch 37/500\n",
            "34/34 [==============================] - 43s 1s/step - loss: 0.4598 - dice_coef: 0.6596 - val_loss: 0.5579 - val_dice_coef: 0.5687\n",
            "Epoch 38/500\n",
            "34/34 [==============================] - 43s 1s/step - loss: 0.4475 - dice_coef: 0.6673 - val_loss: 0.5785 - val_dice_coef: 0.5407\n",
            "Epoch 39/500\n",
            "34/34 [==============================] - 42s 1s/step - loss: 0.4750 - dice_coef: 0.6432 - val_loss: 0.5629 - val_dice_coef: 0.5948\n",
            "Epoch 40/500\n",
            "34/34 [==============================] - 43s 1s/step - loss: 0.4385 - dice_coef: 0.6730 - val_loss: 0.5262 - val_dice_coef: 0.6184\n",
            "Epoch 41/500\n",
            "34/34 [==============================] - 43s 1s/step - loss: 0.4121 - dice_coef: 0.6959 - val_loss: 0.5056 - val_dice_coef: 0.6327\n",
            "Epoch 42/500\n",
            "34/34 [==============================] - 43s 1s/step - loss: 0.4072 - dice_coef: 0.6956 - val_loss: 0.5033 - val_dice_coef: 0.6384\n",
            "Epoch 43/500\n",
            "34/34 [==============================] - 42s 1s/step - loss: 0.3973 - dice_coef: 0.7090 - val_loss: 0.5491 - val_dice_coef: 0.6090\n",
            "Epoch 44/500\n",
            "34/34 [==============================] - 43s 1s/step - loss: 0.4134 - dice_coef: 0.6923 - val_loss: 0.5139 - val_dice_coef: 0.6290\n",
            "Epoch 45/500\n",
            "34/34 [==============================] - 43s 1s/step - loss: 0.4262 - dice_coef: 0.6706 - val_loss: 0.5894 - val_dice_coef: 0.5951\n",
            "Epoch 46/500\n",
            "34/34 [==============================] - 42s 1s/step - loss: 0.4594 - dice_coef: 0.6463 - val_loss: 0.5444 - val_dice_coef: 0.6098\n",
            "Epoch 47/500\n",
            "34/34 [==============================] - 42s 1s/step - loss: 0.3961 - dice_coef: 0.6881 - val_loss: 0.5610 - val_dice_coef: 0.6088\n",
            "Epoch 48/500\n",
            "34/34 [==============================] - 43s 1s/step - loss: 0.4198 - dice_coef: 0.6923 - val_loss: 0.4892 - val_dice_coef: 0.6463\n",
            "Epoch 49/500\n",
            "34/34 [==============================] - 42s 1s/step - loss: 0.3726 - dice_coef: 0.7248 - val_loss: 0.5124 - val_dice_coef: 0.6214\n",
            "Epoch 50/500\n",
            "34/34 [==============================] - 42s 1s/step - loss: 0.3808 - dice_coef: 0.7192 - val_loss: 0.5161 - val_dice_coef: 0.6296\n",
            "Epoch 51/500\n",
            "34/34 [==============================] - 42s 1s/step - loss: 0.3496 - dice_coef: 0.7441 - val_loss: 0.5104 - val_dice_coef: 0.6307\n",
            "Epoch 52/500\n",
            "34/34 [==============================] - 43s 1s/step - loss: 0.3586 - dice_coef: 0.7259 - val_loss: 0.4953 - val_dice_coef: 0.6450\n",
            "Epoch 53/500\n",
            "34/34 [==============================] - 42s 1s/step - loss: 0.3464 - dice_coef: 0.7332 - val_loss: 0.4909 - val_dice_coef: 0.6508\n",
            "Epoch 54/500\n",
            "34/34 [==============================] - 42s 1s/step - loss: 0.4030 - dice_coef: 0.7045 - val_loss: 0.5011 - val_dice_coef: 0.6532\n",
            "Epoch 55/500\n",
            "34/34 [==============================] - 42s 1s/step - loss: 0.3555 - dice_coef: 0.7267 - val_loss: 0.5547 - val_dice_coef: 0.6348\n",
            "Epoch 56/500\n",
            "34/34 [==============================] - 42s 1s/step - loss: 0.5163 - dice_coef: 0.6343 - val_loss: 0.7346 - val_dice_coef: 0.4663\n",
            "Epoch 57/500\n",
            "34/34 [==============================] - 42s 1s/step - loss: 0.4631 - dice_coef: 0.6526 - val_loss: 0.5138 - val_dice_coef: 0.6309\n",
            "Epoch 58/500\n",
            "34/34 [==============================] - 42s 1s/step - loss: 0.4551 - dice_coef: 0.6681 - val_loss: 0.5462 - val_dice_coef: 0.5942\n",
            "Epoch 59/500\n",
            "34/34 [==============================] - 42s 1s/step - loss: 0.3892 - dice_coef: 0.7100 - val_loss: 0.5183 - val_dice_coef: 0.6303\n",
            "Epoch 60/500\n",
            "34/34 [==============================] - 42s 1s/step - loss: 0.3536 - dice_coef: 0.7139 - val_loss: 0.4924 - val_dice_coef: 0.6348\n",
            "Epoch 61/500\n",
            "34/34 [==============================] - 42s 1s/step - loss: 0.3220 - dice_coef: 0.7658 - val_loss: 0.4637 - val_dice_coef: 0.6643\n",
            "Epoch 62/500\n",
            "34/34 [==============================] - 42s 1s/step - loss: 0.3251 - dice_coef: 0.7587 - val_loss: 0.5412 - val_dice_coef: 0.6286\n",
            "Epoch 63/500\n",
            "34/34 [==============================] - 42s 1s/step - loss: 0.3115 - dice_coef: 0.7715 - val_loss: 0.4753 - val_dice_coef: 0.6765\n",
            "Epoch 64/500\n",
            "34/34 [==============================] - 42s 1s/step - loss: 0.2897 - dice_coef: 0.7809 - val_loss: 0.5042 - val_dice_coef: 0.6543\n",
            "Epoch 65/500\n",
            "34/34 [==============================] - 42s 1s/step - loss: 0.3198 - dice_coef: 0.7626 - val_loss: 0.4936 - val_dice_coef: 0.6533\n",
            "Epoch 66/500\n",
            "34/34 [==============================] - 42s 1s/step - loss: 0.3080 - dice_coef: 0.7666 - val_loss: 0.4859 - val_dice_coef: 0.6630\n",
            "Epoch 67/500\n",
            "34/34 [==============================] - 42s 1s/step - loss: 0.2936 - dice_coef: 0.7837 - val_loss: 0.5414 - val_dice_coef: 0.6031\n",
            "Epoch 68/500\n",
            "34/34 [==============================] - 42s 1s/step - loss: 0.2827 - dice_coef: 0.7690 - val_loss: 0.5127 - val_dice_coef: 0.6487\n",
            "Epoch 69/500\n",
            "34/34 [==============================] - 42s 1s/step - loss: 0.2900 - dice_coef: 0.7853 - val_loss: 0.4861 - val_dice_coef: 0.6657\n",
            "Epoch 70/500\n",
            "34/34 [==============================] - 42s 1s/step - loss: 0.2603 - dice_coef: 0.8027 - val_loss: 0.5083 - val_dice_coef: 0.6446\n",
            "Epoch 71/500\n",
            "34/34 [==============================] - 42s 1s/step - loss: 0.2632 - dice_coef: 0.8054 - val_loss: 0.5099 - val_dice_coef: 0.6492\n",
            "Epoch 72/500\n",
            "34/34 [==============================] - 42s 1s/step - loss: 0.2306 - dice_coef: 0.8290 - val_loss: 0.5177 - val_dice_coef: 0.6660\n",
            "Epoch 73/500\n",
            "34/34 [==============================] - 42s 1s/step - loss: 0.2259 - dice_coef: 0.8322 - val_loss: 0.5009 - val_dice_coef: 0.6729\n",
            "Epoch 74/500\n",
            "34/34 [==============================] - 42s 1s/step - loss: 0.2151 - dice_coef: 0.8339 - val_loss: 0.4959 - val_dice_coef: 0.6597\n",
            "Epoch 75/500\n",
            "34/34 [==============================] - 42s 1s/step - loss: 0.2145 - dice_coef: 0.8399 - val_loss: 0.4920 - val_dice_coef: 0.6701\n",
            "Epoch 76/500\n",
            "34/34 [==============================] - 42s 1s/step - loss: 0.2163 - dice_coef: 0.8119 - val_loss: 0.5182 - val_dice_coef: 0.6504\n",
            "Epoch 77/500\n",
            "34/34 [==============================] - 42s 1s/step - loss: 0.2185 - dice_coef: 0.8375 - val_loss: 0.5312 - val_dice_coef: 0.6565\n",
            "Epoch 78/500\n",
            "34/34 [==============================] - 42s 1s/step - loss: 0.1854 - dice_coef: 0.8617 - val_loss: 0.5291 - val_dice_coef: 0.6731\n",
            "Epoch 79/500\n",
            "34/34 [==============================] - 42s 1s/step - loss: 0.1900 - dice_coef: 0.8557 - val_loss: 0.5162 - val_dice_coef: 0.6629\n",
            "Epoch 80/500\n",
            "34/34 [==============================] - 42s 1s/step - loss: 0.1777 - dice_coef: 0.8650 - val_loss: 0.5412 - val_dice_coef: 0.6565\n",
            "Epoch 81/500\n",
            "34/34 [==============================] - 42s 1s/step - loss: 0.1730 - dice_coef: 0.8680 - val_loss: 0.5303 - val_dice_coef: 0.6512\n",
            "Epoch 82/500\n",
            "34/34 [==============================] - 42s 1s/step - loss: 0.1750 - dice_coef: 0.8482 - val_loss: 0.5408 - val_dice_coef: 0.6533\n",
            "Epoch 83/500\n",
            "34/34 [==============================] - 42s 1s/step - loss: 0.2850 - dice_coef: 0.7833 - val_loss: 0.5100 - val_dice_coef: 0.6645\n",
            "Epoch 84/500\n",
            "34/34 [==============================] - 42s 1s/step - loss: 0.2286 - dice_coef: 0.8300 - val_loss: 0.5504 - val_dice_coef: 0.6415\n",
            "Epoch 85/500\n",
            "34/34 [==============================] - 42s 1s/step - loss: 0.1930 - dice_coef: 0.8533 - val_loss: 0.5338 - val_dice_coef: 0.6497\n",
            "Epoch 86/500\n",
            "34/34 [==============================] - 42s 1s/step - loss: 0.1765 - dice_coef: 0.8486 - val_loss: 0.5282 - val_dice_coef: 0.6476\n",
            "Epoch 87/500\n",
            "34/34 [==============================] - 42s 1s/step - loss: 0.1910 - dice_coef: 0.8554 - val_loss: 0.5283 - val_dice_coef: 0.6557\n",
            "Epoch 88/500\n",
            "34/34 [==============================] - 42s 1s/step - loss: 0.1864 - dice_coef: 0.8519 - val_loss: 0.5438 - val_dice_coef: 0.6581\n",
            "Epoch 89/500\n",
            "34/34 [==============================] - 42s 1s/step - loss: 0.2587 - dice_coef: 0.8034 - val_loss: 0.5721 - val_dice_coef: 0.6321\n",
            "Epoch 90/500\n",
            "34/34 [==============================] - 42s 1s/step - loss: 0.2114 - dice_coef: 0.8377 - val_loss: 0.5572 - val_dice_coef: 0.6509\n",
            "Epoch 91/500\n",
            "34/34 [==============================] - 42s 1s/step - loss: 0.1814 - dice_coef: 0.8630 - val_loss: 0.5379 - val_dice_coef: 0.6603\n",
            "Epoch 92/500\n",
            "34/34 [==============================] - 42s 1s/step - loss: 0.1595 - dice_coef: 0.8777 - val_loss: 0.5576 - val_dice_coef: 0.6610\n",
            "Epoch 93/500\n",
            "34/34 [==============================] - 42s 1s/step - loss: 0.1584 - dice_coef: 0.8766 - val_loss: 0.5650 - val_dice_coef: 0.6544\n",
            "Epoch 94/500\n",
            "34/34 [==============================] - 42s 1s/step - loss: 0.1396 - dice_coef: 0.8904 - val_loss: 0.5637 - val_dice_coef: 0.6491\n",
            "Epoch 95/500\n",
            "34/34 [==============================] - 42s 1s/step - loss: 0.1352 - dice_coef: 0.8932 - val_loss: 0.5648 - val_dice_coef: 0.6580\n",
            "Epoch 96/500\n",
            "34/34 [==============================] - 42s 1s/step - loss: 0.1327 - dice_coef: 0.8947 - val_loss: 0.5524 - val_dice_coef: 0.6665\n",
            "Epoch 97/500\n",
            "34/34 [==============================] - 42s 1s/step - loss: 0.1600 - dice_coef: 0.8627 - val_loss: 0.5423 - val_dice_coef: 0.6452\n",
            "Epoch 98/500\n",
            "34/34 [==============================] - 42s 1s/step - loss: 0.1842 - dice_coef: 0.8538 - val_loss: 0.5004 - val_dice_coef: 0.6584\n",
            "Epoch 99/500\n",
            "34/34 [==============================] - 42s 1s/step - loss: 0.1521 - dice_coef: 0.8849 - val_loss: 0.5496 - val_dice_coef: 0.6645\n",
            "Epoch 100/500\n",
            "34/34 [==============================] - 42s 1s/step - loss: 0.1552 - dice_coef: 0.8798 - val_loss: 0.5441 - val_dice_coef: 0.6526\n",
            "Epoch 101/500\n",
            "34/34 [==============================] - 42s 1s/step - loss: 0.1255 - dice_coef: 0.9003 - val_loss: 0.5456 - val_dice_coef: 0.6508\n",
            "Epoch 102/500\n",
            "34/34 [==============================] - 42s 1s/step - loss: 0.1135 - dice_coef: 0.9099 - val_loss: 0.5695 - val_dice_coef: 0.6482\n",
            "Epoch 103/500\n",
            "34/34 [==============================] - 42s 1s/step - loss: 0.1124 - dice_coef: 0.9085 - val_loss: 0.5766 - val_dice_coef: 0.6546\n",
            "Epoch 104/500\n",
            "34/34 [==============================] - 42s 1s/step - loss: 0.1113 - dice_coef: 0.9100 - val_loss: 0.6157 - val_dice_coef: 0.6417\n",
            "Epoch 105/500\n",
            "34/34 [==============================] - 42s 1s/step - loss: 0.1115 - dice_coef: 0.9083 - val_loss: 0.5768 - val_dice_coef: 0.6386\n",
            "Epoch 106/500\n",
            "34/34 [==============================] - 42s 1s/step - loss: 0.1212 - dice_coef: 0.9017 - val_loss: 0.5846 - val_dice_coef: 0.6507\n",
            "Epoch 107/500\n",
            "34/34 [==============================] - 42s 1s/step - loss: 0.1121 - dice_coef: 0.9087 - val_loss: 0.5538 - val_dice_coef: 0.6637\n",
            "Epoch 108/500\n",
            "34/34 [==============================] - 42s 1s/step - loss: 0.1353 - dice_coef: 0.8922 - val_loss: 0.5709 - val_dice_coef: 0.6346\n",
            "Epoch 109/500\n",
            "34/34 [==============================] - 42s 1s/step - loss: 0.1296 - dice_coef: 0.8959 - val_loss: 0.5786 - val_dice_coef: 0.6565\n",
            "Epoch 110/500\n",
            "34/34 [==============================] - 42s 1s/step - loss: 0.1059 - dice_coef: 0.9124 - val_loss: 0.6001 - val_dice_coef: 0.6457\n",
            "Epoch 111/500\n",
            "34/34 [==============================] - 42s 1s/step - loss: 0.0994 - dice_coef: 0.9195 - val_loss: 0.6038 - val_dice_coef: 0.6411\n",
            "Epoch 112/500\n",
            "34/34 [==============================] - 42s 1s/step - loss: 0.0937 - dice_coef: 0.9217 - val_loss: 0.6208 - val_dice_coef: 0.6235\n",
            "Epoch 113/500\n",
            "34/34 [==============================] - 42s 1s/step - loss: 0.0945 - dice_coef: 0.9218 - val_loss: 0.6255 - val_dice_coef: 0.6443\n",
            "Epoch 114/500\n",
            "34/34 [==============================] - 42s 1s/step - loss: 0.0901 - dice_coef: 0.9256 - val_loss: 0.6046 - val_dice_coef: 0.6516\n",
            "Epoch 115/500\n",
            "34/34 [==============================] - 42s 1s/step - loss: 0.0863 - dice_coef: 0.9282 - val_loss: 0.6423 - val_dice_coef: 0.6514\n",
            "Epoch 116/500\n",
            "34/34 [==============================] - 42s 1s/step - loss: 0.0925 - dice_coef: 0.9241 - val_loss: 0.6282 - val_dice_coef: 0.6314\n",
            "Epoch 117/500\n",
            "34/34 [==============================] - 42s 1s/step - loss: 0.0914 - dice_coef: 0.9191 - val_loss: 0.6301 - val_dice_coef: 0.6597\n",
            "Epoch 118/500\n",
            "34/34 [==============================] - 42s 1s/step - loss: 0.1418 - dice_coef: 0.8899 - val_loss: 0.5856 - val_dice_coef: 0.6325\n",
            "Epoch 119/500\n",
            "34/34 [==============================] - 42s 1s/step - loss: 0.1140 - dice_coef: 0.9078 - val_loss: 0.6339 - val_dice_coef: 0.6266\n",
            "Epoch 120/500\n",
            "34/34 [==============================] - 42s 1s/step - loss: 0.1076 - dice_coef: 0.9115 - val_loss: 0.5976 - val_dice_coef: 0.6399\n",
            "Epoch 121/500\n",
            "34/34 [==============================] - 42s 1s/step - loss: 0.0984 - dice_coef: 0.9192 - val_loss: 0.6135 - val_dice_coef: 0.6428\n",
            "Epoch 122/500\n",
            "34/34 [==============================] - 42s 1s/step - loss: 0.0903 - dice_coef: 0.9247 - val_loss: 0.6021 - val_dice_coef: 0.6488\n",
            "Epoch 123/500\n",
            "34/34 [==============================] - 42s 1s/step - loss: 0.0827 - dice_coef: 0.9307 - val_loss: 0.6485 - val_dice_coef: 0.6475\n",
            "Epoch 124/500\n",
            "34/34 [==============================] - 42s 1s/step - loss: 0.0773 - dice_coef: 0.9333 - val_loss: 0.6963 - val_dice_coef: 0.6369\n",
            "Epoch 125/500\n",
            "34/34 [==============================] - 42s 1s/step - loss: 0.0754 - dice_coef: 0.9355 - val_loss: 0.6466 - val_dice_coef: 0.6508\n",
            "Epoch 126/500\n",
            "34/34 [==============================] - 42s 1s/step - loss: 0.0724 - dice_coef: 0.9375 - val_loss: 0.6172 - val_dice_coef: 0.6501\n",
            "Epoch 127/500\n",
            "34/34 [==============================] - 42s 1s/step - loss: 0.0754 - dice_coef: 0.9325 - val_loss: 0.6858 - val_dice_coef: 0.6344\n",
            "Epoch 128/500\n",
            "34/34 [==============================] - 42s 1s/step - loss: 0.0927 - dice_coef: 0.9237 - val_loss: 0.6483 - val_dice_coef: 0.6451\n",
            "Epoch 129/500\n",
            "34/34 [==============================] - 42s 1s/step - loss: 0.0821 - dice_coef: 0.9295 - val_loss: 0.5983 - val_dice_coef: 0.6539\n",
            "Epoch 130/500\n",
            "34/34 [==============================] - 42s 1s/step - loss: 0.0791 - dice_coef: 0.9319 - val_loss: 0.6832 - val_dice_coef: 0.6344\n",
            "Epoch 131/500\n",
            "34/34 [==============================] - 42s 1s/step - loss: 0.0756 - dice_coef: 0.9363 - val_loss: 0.6392 - val_dice_coef: 0.6543\n",
            "Epoch 132/500\n",
            "34/34 [==============================] - 42s 1s/step - loss: 0.0677 - dice_coef: 0.9422 - val_loss: 0.6554 - val_dice_coef: 0.6507\n",
            "Epoch 133/500\n",
            "34/34 [==============================] - 42s 1s/step - loss: 0.0661 - dice_coef: 0.9408 - val_loss: 0.6450 - val_dice_coef: 0.6546\n",
            "Epoch 134/500\n",
            "34/34 [==============================] - 42s 1s/step - loss: 0.0712 - dice_coef: 0.9372 - val_loss: 0.6686 - val_dice_coef: 0.6525\n",
            "Epoch 135/500\n",
            "34/34 [==============================] - 42s 1s/step - loss: 0.0722 - dice_coef: 0.9397 - val_loss: 0.6580 - val_dice_coef: 0.6504\n",
            "Epoch 136/500\n",
            "34/34 [==============================] - 42s 1s/step - loss: 0.0688 - dice_coef: 0.9416 - val_loss: 0.6745 - val_dice_coef: 0.6556\n",
            "Epoch 137/500\n",
            "34/34 [==============================] - 42s 1s/step - loss: 0.0615 - dice_coef: 0.9446 - val_loss: 0.6806 - val_dice_coef: 0.6387\n",
            "Epoch 138/500\n",
            "34/34 [==============================] - 42s 1s/step - loss: 0.0825 - dice_coef: 0.9307 - val_loss: 0.6542 - val_dice_coef: 0.6500\n",
            "Epoch 139/500\n",
            "34/34 [==============================] - 42s 1s/step - loss: 0.0830 - dice_coef: 0.9289 - val_loss: 0.6089 - val_dice_coef: 0.6452\n",
            "Epoch 140/500\n",
            "34/34 [==============================] - 42s 1s/step - loss: 0.1032 - dice_coef: 0.9154 - val_loss: 0.6551 - val_dice_coef: 0.6297\n",
            "Epoch 141/500\n",
            "34/34 [==============================] - 42s 1s/step - loss: 0.0844 - dice_coef: 0.9295 - val_loss: 0.6023 - val_dice_coef: 0.6555\n",
            "Epoch 142/500\n",
            "34/34 [==============================] - 42s 1s/step - loss: 0.0712 - dice_coef: 0.9387 - val_loss: 0.6281 - val_dice_coef: 0.6572\n",
            "Epoch 143/500\n",
            "34/34 [==============================] - 42s 1s/step - loss: 0.0741 - dice_coef: 0.9380 - val_loss: 0.6739 - val_dice_coef: 0.6353\n",
            "Epoch 144/500\n",
            "34/34 [==============================] - 42s 1s/step - loss: 0.0662 - dice_coef: 0.9393 - val_loss: 0.7102 - val_dice_coef: 0.6424\n",
            "Epoch 145/500\n",
            "34/34 [==============================] - 42s 1s/step - loss: 0.1455 - dice_coef: 0.8878 - val_loss: 0.6888 - val_dice_coef: 0.6321\n",
            "Epoch 146/500\n",
            "34/34 [==============================] - 42s 1s/step - loss: 0.1613 - dice_coef: 0.8790 - val_loss: 0.6455 - val_dice_coef: 0.6078\n",
            "Epoch 147/500\n",
            "34/34 [==============================] - 42s 1s/step - loss: 0.1066 - dice_coef: 0.9129 - val_loss: 0.6060 - val_dice_coef: 0.6449\n",
            "Epoch 148/500\n",
            "34/34 [==============================] - 42s 1s/step - loss: 0.1010 - dice_coef: 0.9167 - val_loss: 0.6871 - val_dice_coef: 0.6399\n",
            "Epoch 149/500\n",
            "34/34 [==============================] - 42s 1s/step - loss: 0.0899 - dice_coef: 0.9258 - val_loss: 0.6338 - val_dice_coef: 0.6551\n",
            "Epoch 150/500\n",
            "34/34 [==============================] - 42s 1s/step - loss: 0.0731 - dice_coef: 0.9382 - val_loss: 0.6640 - val_dice_coef: 0.6478\n",
            "Epoch 151/500\n",
            "34/34 [==============================] - 42s 1s/step - loss: 0.0656 - dice_coef: 0.9429 - val_loss: 0.6717 - val_dice_coef: 0.6456\n",
            "Epoch 152/500\n",
            "34/34 [==============================] - 42s 1s/step - loss: 0.0632 - dice_coef: 0.9437 - val_loss: 0.7051 - val_dice_coef: 0.6328\n",
            "Epoch 153/500\n",
            "34/34 [==============================] - 42s 1s/step - loss: 0.0615 - dice_coef: 0.9463 - val_loss: 0.7209 - val_dice_coef: 0.6410\n",
            "Epoch 154/500\n",
            "34/34 [==============================] - 42s 1s/step - loss: 0.0577 - dice_coef: 0.9485 - val_loss: 0.7004 - val_dice_coef: 0.6441\n",
            "Epoch 155/500\n",
            "34/34 [==============================] - 42s 1s/step - loss: 0.0560 - dice_coef: 0.9506 - val_loss: 0.7187 - val_dice_coef: 0.6456\n",
            "Epoch 156/500\n",
            "34/34 [==============================] - 42s 1s/step - loss: 0.0523 - dice_coef: 0.9531 - val_loss: 0.7097 - val_dice_coef: 0.6478\n",
            "Epoch 157/500\n",
            "34/34 [==============================] - 42s 1s/step - loss: 0.0548 - dice_coef: 0.9516 - val_loss: 0.7968 - val_dice_coef: 0.6344\n",
            "Epoch 158/500\n",
            "34/34 [==============================] - 42s 1s/step - loss: 0.0550 - dice_coef: 0.9530 - val_loss: 0.6653 - val_dice_coef: 0.6414\n",
            "Epoch 159/500\n",
            "34/34 [==============================] - 42s 1s/step - loss: 0.0500 - dice_coef: 0.9552 - val_loss: 0.7543 - val_dice_coef: 0.6430\n",
            "Epoch 160/500\n",
            "34/34 [==============================] - 42s 1s/step - loss: 0.0515 - dice_coef: 0.9545 - val_loss: 0.6973 - val_dice_coef: 0.6508\n",
            "Epoch 161/500\n",
            "34/34 [==============================] - ETA: 0s - loss: 0.0498 - dice_coef: 0.9557Restoring model weights from the end of the best epoch: 61.\n",
            "34/34 [==============================] - 42s 1s/step - loss: 0.0498 - dice_coef: 0.9557 - val_loss: 0.7189 - val_dice_coef: 0.6535\n",
            "Epoch 161: early stopping\n"
          ]
        },
        {
          "output_type": "display_data",
          "data": {
            "text/plain": [
              "<Figure size 432x288 with 1 Axes>"
            ],
            "image/png": "[encoded data removed]"
          },
          "metadata": {
            "needs_background": "light"
          }
        }
      ]
    },
    {
      "cell_type": "code",
      "source": [
        "model.save('/content/gdrive/My Drive/BreastUSDatasetNPYs/Combined_UNet_Model.h5')"
      ],
      "metadata": {
        "id": "btIWU3ijiD4t"
      },
      "execution_count": 20,
      "outputs": []
    },
    {
      "cell_type": "code",
      "source": [
        "# Make predictions on test set\n",
        "testPreds = model.predict(combinedTestImages)\n",
        "print(testPreds.shape)"
      ],
      "metadata": {
        "colab": {
          "base_uri": "https://localhost:8080/"
        },
        "id": "0yPJeKV-7OuL",
        "outputId": "76b2208d-6c12-4aae-aac0-96e13f0a987c"
      },
      "execution_count": 21,
      "outputs": [
        {
          "output_type": "stream",
          "name": "stdout",
          "text": [
            "(166, 224, 224, 1)\n"
          ]
        }
      ]
    },
    {
      "cell_type": "code",
      "source": [
        "# Evaluate the test set predictions based on Dice Score\n",
        "dScoreList = list()\n",
        "\n",
        "for i in range(len(testPreds)):\n",
        "  yTrue = combinedTestMasks[i].reshape((224,224))\n",
        "  yPred = testPreds[i].reshape((224,224))\n",
        "  yTrue = tf.convert_to_tensor(yTrue, np.float32)\n",
        "  yTrue = K.cast(yTrue, 'float32')\n",
        "  yPred = tf.convert_to_tensor(yPred, np.float32)\n",
        "  yPred = K.cast(yPred, 'float32')\n",
        "  dScoreList.append(float(1-dice_loss(yTrue, yPred)))\n",
        "\n",
        "print(dScoreList)\n",
        "print('The average Dice Score of the test set segmentation is: ',np.mean(dScoreList))"
      ],
      "metadata": {
        "colab": {
          "base_uri": "https://localhost:8080/"
        },
        "id": "zd0tQeO87ZCj",
        "outputId": "ce962965-d70d-4cdd-808f-b096db814153"
      },
      "execution_count": 23,
      "outputs": [
        {
          "output_type": "stream",
          "name": "stdout",
          "text": [
            "[0.09170430898666382, 0.845727801322937, 0.7470941543579102, 0.970902144908905, 0.01332634687423706, 0.1370307207107544, 0.7913942933082581, 0.09965306520462036, 0.2106572389602661, 0.8720808029174805, 0.7620186805725098, 0.5638324022293091, 0.362601637840271, 0.6197812557220459, 0.2423211932182312, 0.9351905584335327, 0.9329071044921875, 0.9312455058097839, 0.9096270203590393, 0.9351567625999451, 0.2175004482269287, 0.4959160089492798, 0.9230114221572876, 0.6633973121643066, 0.6507247686386108, 0.42320185899734497, 0.5620959401130676, 0.9043064713478088, 0.915550708770752, 0.9261789321899414, 0.1721305251121521, 0.20695841312408447, 0.9724377989768982, 0.8711205720901489, 0.9321907758712769, 0.6474726796150208, 0.9378888010978699, 0.8896368741989136, 0.9554059505462646, 0.9413787126541138, 0.13902318477630615, 0.8946936130523682, 0.8590953350067139, 0.9315415024757385, 0.8995092511177063, 0.5887740254402161, 0.9010825157165527, 0.8483723998069763, 0.6634516716003418, 0.6235185861587524, 0.43006372451782227, 0.9472151398658752, 0.9278643727302551, 0.3104248046875, 0.42002570629119873, 0.8527671694755554, 0.9128527045249939, 0.46259093284606934, 0.6590029001235962, 0.859344482421875, 0.9764300584793091, 0.921721875667572, 0.6763272285461426, 0.8795953989028931, 0.8791590332984924, 0.915946364402771, 0.9302532076835632, 0.1631629467010498, 0.8601882457733154, 0.49809473752975464, 0.9494218826293945, 0.8955039978027344, 0.2804105281829834, 0.8460327982902527, 0.38308095932006836, 0.7275648713111877, 0.5030529499053955, 0.23592376708984375, 0.8911260962486267, 0.3939216136932373, 0.8539260625839233, 0.5198462605476379, 0.900789737701416, 0.8593804836273193, 0.7142640352249146, 0.5257203578948975, 0.5746418237686157, 0.517036497592926, 0.6881831288337708, 0.9123461246490479, 0.9053082466125488, 0.7652916312217712, 0.881580114364624, 0.12790250778198242, 0.6544874310493469, 0.9034039974212646, 0.7248291373252869, 0.6787562966346741, 0.04277753829956055, 0.8733371496200562, 0.8878206610679626, 0.9091463685035706, 0.7370266914367676, 0.8043843507766724, 0.9361979961395264, 0.8930992484092712, 0.5382044315338135, 0.94905686378479, 0.8430938720703125, 0.40794479846954346, 0.02128756046295166, 0.9160783886909485, 0.6026856303215027, 0.06300246715545654, 0.9245572090148926, 0.8252304792404175, 0.06888473033905029, 0.1945420503616333, 0.8213140368461609, 0.4112069010734558, 0.22831547260284424, 0.9569883346557617, 0.8403476476669312, 0.9403903484344482, 0.15153419971466064, 0.9270579218864441, 0.831282913684845, 0.8800493478775024, 0.6825966835021973, 0.6736220717430115, 0.8134666681289673, 0.9261633157730103, 0.8375067710876465, 0.5180067420005798, 0.03527885675430298, 0.926476001739502, 0.8920127153396606, 0.7910435199737549, 0.5568834543228149, 0.345708429813385, 0.5952029228210449, 0.9110392332077026, 0.9345871210098267, 0.862862765789032, 0.8780795335769653, 0.9293500781059265, 0.7688162326812744, 0.8485072255134583, 0.890180230140686, 0.8815974593162537, 0.913760781288147, 0.45762836933135986, 0.6532865166664124, 0.8244398832321167, 0.8602176308631897, 0.3344306945800781, 0.925080418586731, 0.5450384020805359, 0.9606357216835022, 0.9562341570854187, 0.937341570854187, 0.7522616982460022, 0.815328061580658, 0.9501408338546753, 0.9258291125297546, 0.8510215878486633]\n",
            "The average Dice Score of the test set segmentation is:  0.6952836958758802\n"
          ]
        }
      ]
    },
    {
      "cell_type": "markdown",
      "source": [
        "We can observe that the automatic segmentation model is able to achieve a decent average Dice Score of ~70% on the combined test set."
      ],
      "metadata": {
        "id": "dal-ct3e8pw6"
      }
    },
    {
      "cell_type": "code",
      "source": [
        "# Display a few sample predictions: the best 3 and the worst 3\n",
        "\n",
        "indList = [i for i in range(len(combinedTestImages))]\n",
        "\n",
        "sortedInds = [x for _,x in sorted(zip(dScoreList,indList))]\n",
        "\n",
        "# Get the best and the worst scoring predictions\n",
        "\n",
        "bestInds = [sortedInds[-1],sortedInds[-2],sortedInds[-3]]\n",
        "worstInds = [sortedInds[0],sortedInds[1],sortedInds[2]]\n",
        "\n",
        "# Display the 3 best predictions\n",
        "\n",
        "print('The following are the best test predictions in the order: Original BUS, G.T. Mask, Prediction')\n",
        "fig, axs = plt.subplots(3, 3)\n",
        "axs[0, 0].imshow(combinedTestImages[bestInds[0]].reshape((224,224)), cmap='gray')\n",
        "\n",
        "axs[0, 1].imshow(combinedTestMasks[bestInds[0]].reshape((224,224)), cmap='gray')\n",
        "\n",
        "axs[0, 2].imshow(testPreds[bestInds[0]].reshape((224,224)), cmap='gray')\n",
        "\n",
        "axs[1, 0].imshow(combinedTestImages[bestInds[1]].reshape((224,224)), cmap='gray')\n",
        "\n",
        "axs[1, 1].imshow(combinedTestMasks[bestInds[1]].reshape((224,224)), cmap='gray')\n",
        "\n",
        "axs[1, 2].imshow(testPreds[bestInds[1]].reshape((224,224)), cmap='gray')\n",
        "\n",
        "axs[2, 0].imshow(combinedTestImages[bestInds[2]].reshape((224,224)), cmap='gray')\n",
        "\n",
        "axs[2, 1].imshow(combinedTestMasks[bestInds[2]].reshape((224,224)), cmap='gray')\n",
        "\n",
        "axs[2, 2].imshow(testPreds[bestInds[2]].reshape((224,224)), cmap='gray')\n",
        "\n",
        "# remove the x and y ticks\n",
        "for ax in axs.flat:\n",
        "    ax.set_xticks([])\n",
        "    ax.set_yticks([])\n",
        "\n",
        "# Hide x labels and tick labels for top plots and y ticks for right plots.\n",
        "for ax in axs.flat:\n",
        "    ax.label_outer()"
      ],
      "metadata": {
        "colab": {
          "base_uri": "https://localhost:8080/",
          "height": 269
        },
        "id": "sJ8AJJ9c821z",
        "outputId": "99c4f4ca-931e-4523-87a7-95c57c20dc82"
      },
      "execution_count": 24,
      "outputs": [
        {
          "output_type": "stream",
          "name": "stdout",
          "text": [
            "The following are the best test predictions in the order: Original BUS, G.T. Mask, Prediction\n"
          ]
        },
        {
          "output_type": "display_data",
          "data": {
            "text/plain": [
              "<Figure size 432x288 with 9 Axes>"
            ],
            "image/png": "[encoded data removed]"
          },
          "metadata": {}
        }
      ]
    },
    {
      "cell_type": "code",
      "source": [
        "# Display the 3 worst predictions\n",
        "\n",
        "print('The following are the worst test predictions in the order: Original BUS, G.T. Mask, Prediction')\n",
        "fig, axs = plt.subplots(3, 3)\n",
        "axs[0, 0].imshow(combinedTestImages[worstInds[0]].reshape((224,224)), cmap='gray')\n",
        "\n",
        "axs[0, 1].imshow(combinedTestMasks[worstInds[0]].reshape((224,224)), cmap='gray')\n",
        "\n",
        "axs[0, 2].imshow(testPreds[worstInds[0]].reshape((224,224)), cmap='gray')\n",
        "\n",
        "axs[1, 0].imshow(combinedTestImages[worstInds[1]].reshape((224,224)), cmap='gray')\n",
        "\n",
        "axs[1, 1].imshow(combinedTestMasks[worstInds[1]].reshape((224,224)), cmap='gray')\n",
        "\n",
        "axs[1, 2].imshow(testPreds[worstInds[1]].reshape((224,224)), cmap='gray')\n",
        "\n",
        "axs[2, 0].imshow(combinedTestImages[worstInds[2]].reshape((224,224)), cmap='gray')\n",
        "\n",
        "axs[2, 1].imshow(combinedTestMasks[worstInds[2]].reshape((224,224)), cmap='gray')\n",
        "\n",
        "axs[2, 2].imshow(testPreds[worstInds[2]].reshape((224,224)), cmap='gray')\n",
        "\n",
        "# remove the x and y ticks\n",
        "for ax in axs.flat:\n",
        "    ax.set_xticks([])\n",
        "    ax.set_yticks([])\n",
        "\n",
        "# Hide x labels and tick labels for top plots and y ticks for right plots.\n",
        "for ax in axs.flat:\n",
        "    ax.label_outer()"
      ],
      "metadata": {
        "colab": {
          "base_uri": "https://localhost:8080/",
          "height": 269
        },
        "id": "rUIM6Z-a_bRl",
        "outputId": "753ea9fd-485b-4195-a7ce-c5de9bf010b9"
      },
      "execution_count": 25,
      "outputs": [
        {
          "output_type": "stream",
          "name": "stdout",
          "text": [
            "The following are the worst test predictions in the order: Original BUS, G.T. Mask, Prediction\n"
          ]
        },
        {
          "output_type": "display_data",
          "data": {
            "text/plain": [
              "<Figure size 432x288 with 9 Axes>"
            ],
            "image/png": "[encoded data removed]"
          },
          "metadata": {}
        }
      ]
    }
  ]
}